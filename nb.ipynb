{
 "cells": [
  {
   "cell_type": "markdown",
   "metadata": {},
   "source": [
    "### Extracting and Saving keypoints from LRO WAC Mosaic."
   ]
  },
  {
   "cell_type": "code",
   "execution_count": null,
   "metadata": {},
   "outputs": [],
   "source": [
    "import cv2\n",
    "import numpy as np\n",
    "from osgeo import gdal\n",
    "\n",
    "# Open the .tif file using GDAL\n",
    "lro_wac_path = '/content/drive/MyDrive/Lunar_LRO_LROC-WAC_Mosaic_global_100m_June2013.tif'\n",
    "dataset = gdal.Open(lro_wac_path)\n",
    "\n",
    "# Get image dimensions\n",
    "img_width = dataset.RasterXSize\n",
    "img_height = dataset.RasterYSize\n",
    "\n",
    "# Define tile size (adjust based on memory constraints)\n",
    "tile_size = 1000  # Example tile size\n",
    "overlap = 100     # Overlap to ensure no features are missed between tiles\n",
    "\n",
    "# Initialize SIFT\n",
    "sift = cv2.SIFT_create()\n",
    "\n",
    "# Loop over the image in tiles\n",
    "keypoints_wac = []\n",
    "descriptors_wac = []\n",
    "\n",
    "for y in range(0, img_height, tile_size - overlap):\n",
    "    for x in range(0, img_width, tile_size - overlap):\n",
    "        # Calculate the bounds of the tile\n",
    "        x_end = min(x + tile_size, img_width)\n",
    "        y_end = min(y + tile_size, img_height)\n",
    "\n",
    "        # Read the tile from the image\n",
    "        tile = dataset.ReadAsArray(x, y, x_end - x, y_end - y)\n",
    "\n",
    "        # If the image has multiple bands, select the first one (grayscale)\n",
    "        if tile.ndim > 2:\n",
    "            tile = tile[0]\n",
    "\n",
    "        # Convert to 8-bit image if needed\n",
    "        tile = cv2.normalize(tile, None, 0, 255, cv2.NORM_MINMAX, dtype=cv2.CV_8U)\n",
    "\n",
    "        # Detect keypoints and compute descriptors for the tile\n",
    "        kp, des = sift.detectAndCompute(tile, None)\n",
    "        keypoints_wac.extend(kp)\n",
    "        if des is not None:\n",
    "            descriptors_wac.append(des)\n",
    "\n",
    "# Concatenate all descriptors into a single array\n",
    "if descriptors_wac:\n",
    "    descriptors_wac = np.vstack(descriptors_wac)\n",
    "\n",
    "print(f\"Extracted {len(keypoints_wac)} keypoints from the LRO WAC mosaic in tiles.\")"
   ]
  },
  {
   "cell_type": "markdown",
   "metadata": {},
   "source": [
    "### Loading mosaic features"
   ]
  },
  {
   "cell_type": "code",
   "execution_count": null,
   "metadata": {},
   "outputs": [],
   "source": [
    "import cv2\n",
    "import pickle\n",
    "# Load the previously saved features of the LRO WAC mosaic\n",
    "with open('/kaggle/input/bah-2024/lro_wac_features.pkl', 'rb') as f:\n",
    "    keypoints_wac_serialized, descriptors_wac = pickle.load(f)"
   ]
  },
  {
   "cell_type": "markdown",
   "metadata": {},
   "source": [
    "#### Converting from serialized to keypoints"
   ]
  },
  {
   "cell_type": "code",
   "execution_count": null,
   "metadata": {},
   "outputs": [],
   "source": [
    "import cv2\n",
    "import pickle\n",
    "\n",
    "# Function to convert serialized keypoints back to cv2.KeyPoint format\n",
    "def convert_serializable_to_keypoints(serializable_keypoints):\n",
    "    return [\n",
    "        cv2.KeyPoint(\n",
    "            x=kp[0][0],  # x-coordinate\n",
    "            y=kp[0][1],  # y-coordinate\n",
    "            size=kp[1],   # size\n",
    "            angle=kp[2],  # angle\n",
    "            response=kp[3],  # response\n",
    "            octave=kp[4],    # octave\n",
    "            class_id=kp[5]   # class_id\n",
    "        )\n",
    "        for kp in serializable_keypoints\n",
    "    ]\n",
    "\n",
    "# Load the serialized keypoints and descriptors from the file\n",
    "with open('/kaggle/input/bah-2024/lro_wac_features.pkl', 'rb') as f:\n",
    "    keypoints_wac_serializable, descriptors_wac = pickle.load(f)\n",
    "\n",
    "# Convert the keypoints back to cv2.KeyPoint format\n",
    "keypoints_wac = convert_serializable_to_keypoints(keypoints_wac_serializable)\n",
    "\n",
    "print(\"Features loaded and keypoints restored.\")"
   ]
  },
  {
   "cell_type": "markdown",
   "metadata": {},
   "source": [
    "#### Loading TMC image (downsampled and with reduced bit structure)"
   ]
  },
  {
   "cell_type": "code",
   "execution_count": null,
   "metadata": {},
   "outputs": [],
   "source": [
    "import cv2\n",
    "\n",
    "# Load the .tif image\n",
    "image_path = '/kaggle/input/bah-2024/converted.tif'\n",
    "image = cv2.imread(image_path, cv2.IMREAD_GRAYSCALE)\n",
    "\n",
    "# Initialize the SIFT detector\n",
    "sift = cv2.SIFT_create()\n",
    "\n",
    "# Detect keypoints and compute descriptors\n",
    "keypoints, descriptors = sift.detectAndCompute(image, None)\n",
    "\n",
    "# Store keypoints in a variable\n",
    "keypoints_list = [(kp.pt, kp.size, kp.angle, kp.response, kp.octave) for kp in keypoints]\n",
    "\n",
    "# Optionally, you can visualize keypoints on the image\n",
    "output_image = cv2.drawKeypoints(image, keypoints, None)\n",
    "\n",
    "# Save the output image to verify the keypoints\n",
    "cv2.imwrite('keypoints_output.tif', output_image)\n",
    "\n",
    "print(f\"Number of keypoints detected: {len(keypoints)}\")\n",
    "print(f\"Keypoints list: {keypoints_list}\")"
   ]
  },
  {
   "cell_type": "markdown",
   "metadata": {},
   "source": [
    "#### Extracting keypoints of TMC image"
   ]
  },
  {
   "cell_type": "code",
   "execution_count": null,
   "metadata": {},
   "outputs": [],
   "source": [
    "import numpy as np\n",
    "import cv2\n",
    "\n",
    "# Ensure descriptors are continuous and of type float32\n",
    "descriptors_tmc_as_array = np.ascontiguousarray(descriptors, dtype=np.float32)\n",
    "descriptors_wac_as_array = np.ascontiguousarray(descriptors, dtype=np.float32)\n",
    "\n",
    "# Check the shapes of the descriptors\n",
    "print(f\"Shape of descriptors_tmc_as_array: {descriptors_tmc_as_array.shape}\")\n",
    "print(f\"Shape of descriptors_wac_as_array: {descriptors_wac_as_array.shape}\")\n",
    "\n",
    "# Set up FLANN-based matcher\n",
    "FLANN_INDEX_KDTREE = 1\n",
    "index_params = dict(algorithm=FLANN_INDEX_KDTREE, trees=5)\n",
    "search_params = dict(checks=50)\n",
    "\n",
    "flann = cv2.FlannBasedMatcher(index_params, search_params)\n",
    "\n",
    "# Process the WAC descriptors in smaller batches\n",
    "batch_size = 100000  # Adjust based on your system's memory capacity\n",
    "good_matches = []\n",
    "\n",
    "for i in range(0, len(descriptors_wac_as_array), batch_size):\n",
    "    batch_descriptors_wac = descriptors_wac_as_array[i:i + batch_size]\n",
    "\n",
    "    try:\n",
    "        matches = flann.knnMatch(descriptors_tmc_as_array, batch_descriptors_wac, k=2)\n",
    "    except cv2.error as e:\n",
    "        print(f\"Error during knnMatch with batch {i}-{i+batch_size}: {e}\")\n",
    "        continue\n",
    "\n",
    "    # Apply Lowe's ratio test to filter good matches\n",
    "    for m, n in matches:\n",
    "        if m.distance < 0.7 * n.distance:\n",
    "            good_matches.append(m)\n",
    "\n",
    "print(f\"Found {len(good_matches)} good matches.\")"
   ]
  },
  {
   "cell_type": "markdown",
   "metadata": {},
   "source": [
    "#### Matching TMC image with extracted keypoints"
   ]
  }
 ],
 "metadata": {
  "kernelspec": {
   "display_name": "Python 3",
   "language": "python",
   "name": "python3"
  },
  "language_info": {
   "codemirror_mode": {
    "name": "ipython",
    "version": 3
   },
   "file_extension": ".py",
   "mimetype": "text/x-python",
   "name": "python",
   "nbconvert_exporter": "python",
   "pygments_lexer": "ipython3",
   "version": "3.12.4"
  }
 },
 "nbformat": 4,
 "nbformat_minor": 2
}
